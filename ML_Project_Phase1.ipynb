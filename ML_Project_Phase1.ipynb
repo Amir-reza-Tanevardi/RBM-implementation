{
  "nbformat": 4,
  "nbformat_minor": 0,
  "metadata": {
    "colab": {
      "provenance": [],
      "collapsed_sections": [
        "tYzm3CMfbV1C",
        "RNrSQ3xebaGc",
        "E35hJoM9dKmq",
        "ni3UdwSyYb3p"
      ]
    },
    "kernelspec": {
      "name": "python3",
      "display_name": "Python 3"
    },
    "language_info": {
      "name": "python"
    }
  },
  "cells": [
    {
      "cell_type": "markdown",
      "source": [
        "<font face=\"Times New Roman\" size=5>\n",
        "<div dir=rtl align=\"center\">\n",
        "<font face=\"Times New Roman\" size=5>\n",
        "</font>\n",
        "<br>\n",
        "<img src=\"https://logoyar.com/content/wp-content/uploads/2021/04/sharif-university-logo.png\" alt=\"University Logo\" width=\"150\" height=\"150\">\n",
        "<br>\n",
        "<font face=\"Times New Roman\" size=4 align=center>\n",
        "Sharif University of Technology - Department of Electrical Engineering\n",
        "</font>\n",
        "<br>\n",
        "<font color=\"#008080\" size=6>\n",
        "Introduction to Machine Learning\n",
        "</font>\n",
        "<br>\n",
        "<font size=5>\n",
        "Project - Phase 1\n",
        "<br>\n",
        "</font>\n",
        "<font size=5>\n",
        "Amirreza Tanevardi 400100898\n",
        "<br>\n",
        "Ali Sadeghian 400101464\n",
        "<br>\n",
        "</font>\n",
        "<font size=4>\n",
        "Fall 2024\n",
        "<br>\n",
        "</font>\n",
        "<font face=\"Times New Roman\" size=4>\n",
        "</font>\n",
        "</div></font>\n"
      ],
      "metadata": {
        "id": "RpPrcgylTWXn"
      }
    },
    {
      "cell_type": "markdown",
      "source": [
        "# Imports"
      ],
      "metadata": {
        "id": "tYzm3CMfbV1C"
      }
    },
    {
      "cell_type": "code",
      "execution_count": null,
      "metadata": {
        "id": "EOAP_H9ta5EG"
      },
      "outputs": [],
      "source": [
        "import numpy as np\n",
        "import torch\n",
        "from torch.utils.data import DataLoader\n",
        "from torchvision import datasets, transforms\n",
        "import matplotlib.pyplot as plt\n",
        "from matplotlib.animation import FuncAnimation, FFMpegWriter\n",
        "import pickle"
      ]
    },
    {
      "cell_type": "markdown",
      "source": [
        "# Part I"
      ],
      "metadata": {
        "id": "RNrSQ3xebaGc"
      }
    },
    {
      "cell_type": "code",
      "source": [
        "transform = transforms.Compose([\n",
        "        transforms.ToTensor(),\n",
        "        transforms.Lambda(lambda x: (x > 0.5).float())  # Binarize the data\n",
        "        #transforms.Normalize((0.5,), (0.5,))\n",
        "    ])\n",
        "\n",
        "# Load the MNIST dataset\n",
        "def load_mnist(batch_size=64):\n",
        "        train_dataset = datasets.MNIST(\n",
        "            root=\"./data\",\n",
        "            train=True,\n",
        "            transform=transform,\n",
        "            download=True\n",
        "        )\n",
        "\n",
        "        test_dataset = datasets.MNIST(\n",
        "            root=\"./data\",\n",
        "            train=False,\n",
        "            transform=transform,\n",
        "            download=True\n",
        "        )\n",
        "\n",
        "        train_loader = DataLoader(\n",
        "            train_dataset,\n",
        "            batch_size=batch_size,\n",
        "            shuffle=True\n",
        "        )\n",
        "\n",
        "        test_loader = DataLoader(\n",
        "            test_dataset,\n",
        "            batch_size=batch_size,\n",
        "            shuffle=False\n",
        "        )\n",
        "\n",
        "        return train_loader, test_loader\n",
        "\n",
        "train_loader, test_loader = load_mnist()"
      ],
      "metadata": {
        "id": "84oqMd_obdyJ",
        "colab": {
          "base_uri": "https://localhost:8080/"
        },
        "outputId": "646c989e-301c-47d1-99a2-64a9a0c3f1f6"
      },
      "execution_count": null,
      "outputs": [
        {
          "output_type": "stream",
          "name": "stdout",
          "text": [
            "Downloading http://yann.lecun.com/exdb/mnist/train-images-idx3-ubyte.gz\n",
            "Failed to download (trying next):\n",
            "HTTP Error 403: Forbidden\n",
            "\n",
            "Downloading https://ossci-datasets.s3.amazonaws.com/mnist/train-images-idx3-ubyte.gz\n",
            "Downloading https://ossci-datasets.s3.amazonaws.com/mnist/train-images-idx3-ubyte.gz to ./data/MNIST/raw/train-images-idx3-ubyte.gz\n"
          ]
        },
        {
          "output_type": "stream",
          "name": "stderr",
          "text": [
            "100%|██████████| 9.91M/9.91M [00:00<00:00, 14.6MB/s]\n"
          ]
        },
        {
          "output_type": "stream",
          "name": "stdout",
          "text": [
            "Extracting ./data/MNIST/raw/train-images-idx3-ubyte.gz to ./data/MNIST/raw\n",
            "\n",
            "Downloading http://yann.lecun.com/exdb/mnist/train-labels-idx1-ubyte.gz\n",
            "Failed to download (trying next):\n",
            "HTTP Error 403: Forbidden\n",
            "\n",
            "Downloading https://ossci-datasets.s3.amazonaws.com/mnist/train-labels-idx1-ubyte.gz\n",
            "Downloading https://ossci-datasets.s3.amazonaws.com/mnist/train-labels-idx1-ubyte.gz to ./data/MNIST/raw/train-labels-idx1-ubyte.gz\n"
          ]
        },
        {
          "output_type": "stream",
          "name": "stderr",
          "text": [
            "100%|██████████| 28.9k/28.9k [00:00<00:00, 436kB/s]\n"
          ]
        },
        {
          "output_type": "stream",
          "name": "stdout",
          "text": [
            "Extracting ./data/MNIST/raw/train-labels-idx1-ubyte.gz to ./data/MNIST/raw\n",
            "\n",
            "Downloading http://yann.lecun.com/exdb/mnist/t10k-images-idx3-ubyte.gz\n",
            "Failed to download (trying next):\n",
            "HTTP Error 403: Forbidden\n",
            "\n",
            "Downloading https://ossci-datasets.s3.amazonaws.com/mnist/t10k-images-idx3-ubyte.gz\n",
            "Downloading https://ossci-datasets.s3.amazonaws.com/mnist/t10k-images-idx3-ubyte.gz to ./data/MNIST/raw/t10k-images-idx3-ubyte.gz\n"
          ]
        },
        {
          "output_type": "stream",
          "name": "stderr",
          "text": [
            "100%|██████████| 1.65M/1.65M [00:00<00:00, 4.08MB/s]\n"
          ]
        },
        {
          "output_type": "stream",
          "name": "stdout",
          "text": [
            "Extracting ./data/MNIST/raw/t10k-images-idx3-ubyte.gz to ./data/MNIST/raw\n",
            "\n",
            "Downloading http://yann.lecun.com/exdb/mnist/t10k-labels-idx1-ubyte.gz\n",
            "Failed to download (trying next):\n",
            "HTTP Error 403: Forbidden\n",
            "\n",
            "Downloading https://ossci-datasets.s3.amazonaws.com/mnist/t10k-labels-idx1-ubyte.gz\n",
            "Downloading https://ossci-datasets.s3.amazonaws.com/mnist/t10k-labels-idx1-ubyte.gz to ./data/MNIST/raw/t10k-labels-idx1-ubyte.gz\n"
          ]
        },
        {
          "output_type": "stream",
          "name": "stderr",
          "text": [
            "100%|██████████| 4.54k/4.54k [00:00<00:00, 4.79MB/s]"
          ]
        },
        {
          "output_type": "stream",
          "name": "stdout",
          "text": [
            "Extracting ./data/MNIST/raw/t10k-labels-idx1-ubyte.gz to ./data/MNIST/raw\n",
            "\n"
          ]
        },
        {
          "output_type": "stream",
          "name": "stderr",
          "text": [
            "\n"
          ]
        }
      ]
    },
    {
      "cell_type": "code",
      "source": [
        "# Visualize samples from the dataset\n",
        "def visualize_samples(data_loader):\n",
        "        data_iter = iter(data_loader)\n",
        "        images, _ = next(data_iter)\n",
        "        images = images[:6]  # Select 6 samples\n",
        "\n",
        "        fig, axes = plt.subplots(1, 6, figsize=(15, 3))\n",
        "        for i, img in enumerate(images):\n",
        "            axes[i].imshow(img.view(28, 28), cmap=\"gray\")\n",
        "            axes[i].axis(\"off\")\n",
        "        plt.show()\n",
        "\n",
        "\n",
        "print(\"Visualizing samples from the dataset:\")\n",
        "visualize_samples(train_loader)"
      ],
      "metadata": {
        "colab": {
          "base_uri": "https://localhost:8080/",
          "height": 209
        },
        "id": "J_NnAUItcI60",
        "outputId": "eab92564-59c3-407b-8744-19d28271dc90"
      },
      "execution_count": null,
      "outputs": [
        {
          "output_type": "stream",
          "name": "stdout",
          "text": [
            "Visualizing samples from the dataset:\n"
          ]
        },
        {
          "output_type": "display_data",
          "data": {
            "text/plain": [
              "<Figure size 1500x300 with 6 Axes>"
            ],
            "image/png": "[encoded data removed]"
          },
          "metadata": {}
        }
      ]
    },
    {
      "cell_type": "markdown",
      "source": [
        "# Part II"
      ],
      "metadata": {
        "id": "E35hJoM9dKmq"
      }
    },
    {
      "cell_type": "code",
      "source": [
        "class RBM:\n",
        "    def __init__(self, input=None, n_visible=784, n_hidden=128, W=None, hbias=None, vbias=None, numpy_rng=None):\n",
        "        self.n_visible = n_visible\n",
        "        self.n_hidden = n_hidden\n",
        "\n",
        "        if numpy_rng is None:\n",
        "            numpy_rng = np.random.RandomState(1234)\n",
        "\n",
        "        if W is None:\n",
        "            a = 1. / n_visible\n",
        "            W = numpy_rng.uniform(-a, a, size=(n_visible, n_hidden))\n",
        "\n",
        "        if hbias is None:\n",
        "            hbias = np.zeros(n_hidden)\n",
        "\n",
        "        if vbias is None:\n",
        "            vbias = np.zeros(n_visible)\n",
        "\n",
        "        self.W = W\n",
        "        self.hbias = hbias\n",
        "        self.vbias = vbias\n",
        "        self.numpy_rng = numpy_rng\n",
        "\n",
        "    def sigmoid(self, x):\n",
        "        return 1 / (1 + np.exp(-x))\n",
        "\n",
        "    def sample_h_given_v(self, v):\n",
        "        h_mean = self.sigmoid(np.dot(v, self.W) + self.hbias)\n",
        "        h_sample = self.numpy_rng.binomial(size=h_mean.shape, n=1, p=h_mean)\n",
        "        return h_mean, h_sample\n",
        "\n",
        "    def sample_v_given_h(self, h):\n",
        "        v_mean = self.sigmoid(np.dot(h, self.W.T) + self.vbias)\n",
        "        v_sample = self.numpy_rng.binomial(size=v_mean.shape, n=1, p=v_mean)\n",
        "        return v_mean, v_sample\n",
        "\n",
        "    def gibbs_hvh(self, h0_sample):\n",
        "        v_mean, v_sample = self.sample_v_given_h(h0_sample)\n",
        "        h_mean, h_sample = self.sample_h_given_v(v_sample)\n",
        "        return v_mean, v_sample, h_mean, h_sample\n",
        "\n",
        "    def contrastive_divergence(self, data, k=1, lr=0.1):\n",
        "        ph_mean, ph_sample = self.sample_h_given_v(data)\n",
        "\n",
        "        chain_start = ph_sample\n",
        "        for step in range(k):\n",
        "            if step == 0:\n",
        "                nv_mean, nv_sample, nh_mean, nh_sample = self.gibbs_hvh(chain_start)\n",
        "            else:\n",
        "                nv_mean, nv_sample, nh_mean, nh_sample = self.gibbs_hvh(nh_sample)\n",
        "\n",
        "        self.W += lr * (np.dot(data.T, ph_sample) - np.dot(nv_sample.T, nh_mean)) / len(data)\n",
        "        self.vbias += lr * np.mean(data - nv_sample, axis=0)\n",
        "        self.hbias += lr * np.mean(ph_sample - nh_mean, axis=0)\n",
        "\n",
        "    def reconstruct(self, v):\n",
        "        h = self.sigmoid(np.dot(v, self.W) + self.hbias)\n",
        "        reconstructed_v = self.sigmoid(np.dot(h, self.W.T) + self.vbias)\n",
        "        return reconstructed_v\n",
        "\n",
        "    def save_model(self, file_path):\n",
        "        with open(file_path, 'wb') as f:\n",
        "            pickle.dump(self, f)\n",
        "\n",
        "    @staticmethod\n",
        "    def load_model(file_path):\n",
        "        with open(file_path, 'rb') as f:\n",
        "            return pickle.load(f)"
      ],
      "metadata": {
        "id": "EZs6lrQsdDcf"
      },
      "execution_count": null,
      "outputs": []
    },
    {
      "cell_type": "code",
      "source": [
        "def train_rbm(train_loader, test_loader, n_visible, n_hidden, learning_rate, epochs, k):\n",
        "      rbm = RBM(n_visible=n_visible, n_hidden=n_hidden)\n",
        "\n",
        "      for epoch in range(epochs):\n",
        "            for batch, _ in train_loader:\n",
        "                batch = batch.view(-1, n_visible).numpy()\n",
        "                rbm.contrastive_divergence(batch, k=k, lr=learning_rate)\n",
        "\n",
        "            test_data = next(iter(test_loader))[0].view(-1, n_visible).numpy()\n",
        "            reconstruction = rbm.reconstruct(test_data)\n",
        "            loss = np.mean((test_data - reconstruction) ** 2)\n",
        "            print(f\"Epoch {epoch + 1}, k={k}: Reconstruction Loss = {loss:.4f}\")\n",
        "\n",
        "      return rbm"
      ],
      "metadata": {
        "id": "a9d8kbhMfEQq"
      },
      "execution_count": null,
      "outputs": []
    },
    {
      "cell_type": "code",
      "source": [
        "# Parameters\n",
        "num_visible = 28 * 28  # Number of visible units\n",
        "num_hidden = 256       # Number of hidden units\n",
        "learning_rate = 0.1\n",
        "epochs = 15\n",
        "\n",
        "print(\"Training RBM with k=1\")\n",
        "rbm_k1 = train_rbm(train_loader, test_loader, num_visible, num_hidden, learning_rate, epochs, k=1)\n",
        "rbm_k1.save_model(\"rbm_k1.pkl\")\n",
        "\n",
        "print(\"Training RBM with k=5\")\n",
        "rbm_k5 = train_rbm(train_loader, test_loader, num_visible, num_hidden, learning_rate, epochs, k=5)\n",
        "rbm_k5.save_model(\"rbm_k5.pkl\")\n",
        "\n",
        "print(\"Training RBM with k=10\")\n",
        "rbm_k10 = train_rbm(train_loader, test_loader, num_visible, num_hidden, learning_rate, epochs, k=10)\n",
        "rbm_k10.save_model(\"rbm_k10.pkl\")"
      ],
      "metadata": {
        "colab": {
          "base_uri": "https://localhost:8080/"
        },
        "id": "6ldpUf8zdSA6",
        "outputId": "896e9df3-0f08-4dfd-885e-f74f378f5aa7"
      },
      "execution_count": null,
      "outputs": [
        {
          "output_type": "stream",
          "name": "stdout",
          "text": [
            "Training RBM with k=1\n",
            "Epoch 1, k=1: Reconstruction Loss = 0.0253\n",
            "Epoch 2, k=1: Reconstruction Loss = 0.0203\n",
            "Epoch 3, k=1: Reconstruction Loss = 0.0176\n",
            "Epoch 4, k=1: Reconstruction Loss = 0.0158\n",
            "Epoch 5, k=1: Reconstruction Loss = 0.0149\n",
            "Epoch 6, k=1: Reconstruction Loss = 0.0142\n",
            "Epoch 7, k=1: Reconstruction Loss = 0.0134\n",
            "Epoch 8, k=1: Reconstruction Loss = 0.0130\n",
            "Epoch 9, k=1: Reconstruction Loss = 0.0127\n",
            "Epoch 10, k=1: Reconstruction Loss = 0.0126\n",
            "Epoch 11, k=1: Reconstruction Loss = 0.0121\n",
            "Epoch 12, k=1: Reconstruction Loss = 0.0120\n",
            "Epoch 13, k=1: Reconstruction Loss = 0.0119\n",
            "Epoch 14, k=1: Reconstruction Loss = 0.0116\n",
            "Epoch 15, k=1: Reconstruction Loss = 0.0114\n",
            "Training RBM with k=5\n",
            "Epoch 1, k=5: Reconstruction Loss = 0.0258\n",
            "Epoch 2, k=5: Reconstruction Loss = 0.0204\n",
            "Epoch 3, k=5: Reconstruction Loss = 0.0180\n",
            "Epoch 4, k=5: Reconstruction Loss = 0.0163\n",
            "Epoch 5, k=5: Reconstruction Loss = 0.0154\n",
            "Epoch 6, k=5: Reconstruction Loss = 0.0144\n",
            "Epoch 7, k=5: Reconstruction Loss = 0.0137\n",
            "Epoch 8, k=5: Reconstruction Loss = 0.0132\n",
            "Epoch 9, k=5: Reconstruction Loss = 0.0128\n",
            "Epoch 10, k=5: Reconstruction Loss = 0.0124\n",
            "Epoch 11, k=5: Reconstruction Loss = 0.0122\n",
            "Epoch 12, k=5: Reconstruction Loss = 0.0121\n",
            "Epoch 13, k=5: Reconstruction Loss = 0.0116\n",
            "Epoch 14, k=5: Reconstruction Loss = 0.0114\n",
            "Epoch 15, k=5: Reconstruction Loss = 0.0112\n",
            "Training RBM with k=10\n",
            "Epoch 1, k=10: Reconstruction Loss = 0.0260\n",
            "Epoch 2, k=10: Reconstruction Loss = 0.0205\n",
            "Epoch 3, k=10: Reconstruction Loss = 0.0179\n",
            "Epoch 4, k=10: Reconstruction Loss = 0.0165\n",
            "Epoch 5, k=10: Reconstruction Loss = 0.0153\n",
            "Epoch 6, k=10: Reconstruction Loss = 0.0144\n",
            "Epoch 7, k=10: Reconstruction Loss = 0.0139\n",
            "Epoch 8, k=10: Reconstruction Loss = 0.0135\n",
            "Epoch 9, k=10: Reconstruction Loss = 0.0130\n",
            "Epoch 10, k=10: Reconstruction Loss = 0.0127\n",
            "Epoch 11, k=10: Reconstruction Loss = 0.0124\n",
            "Epoch 12, k=10: Reconstruction Loss = 0.0126\n",
            "Epoch 13, k=10: Reconstruction Loss = 0.0120\n",
            "Epoch 14, k=10: Reconstruction Loss = 0.0119\n",
            "Epoch 15, k=10: Reconstruction Loss = 0.0116\n"
          ]
        }
      ]
    },
    {
      "cell_type": "code",
      "source": [
        "# Generate samples from a trained RBM\n",
        "def generate_samples(rbm, num_samples=6, num_gibbs_steps=100):\n",
        "      random_visible = np.random.rand(num_samples, rbm.n_visible) > 0.5\n",
        "      for _ in range(num_gibbs_steps):\n",
        "          _, random_visible = rbm.sample_h_given_v(random_visible)\n",
        "          _, random_visible = rbm.sample_v_given_h(random_visible)\n",
        "      return random_visible\n",
        "\n",
        "def visualize_generated_samples(generated_samples):\n",
        "      fig, axes = plt.subplots(1, len(generated_samples), figsize=(15, 3))\n",
        "      for i, sample in enumerate(generated_samples):\n",
        "          axes[i].imshow(sample.reshape(28, 28), cmap=\"gray\")\n",
        "          axes[i].axis(\"off\")\n",
        "      plt.show()"
      ],
      "metadata": {
        "id": "-WPsbCn8pugZ"
      },
      "execution_count": null,
      "outputs": []
    },
    {
      "cell_type": "code",
      "source": [
        "print(\"Generating samples from RBM with k=1\")\n",
        "generated_samples_k1 = generate_samples(rbm_k1, num_samples=6, num_gibbs_steps=200)\n",
        "visualize_generated_samples(generated_samples_k1)"
      ],
      "metadata": {
        "colab": {
          "base_uri": "https://localhost:8080/",
          "height": 209
        },
        "id": "xkW5MZugfuie",
        "outputId": "499dbf24-1870-4ec8-f550-29e303b30c03"
      },
      "execution_count": null,
      "outputs": [
        {
          "output_type": "stream",
          "name": "stdout",
          "text": [
            "Generating samples from RBM with k=1\n"
          ]
        },
        {
          "output_type": "display_data",
          "data": {
            "text/plain": [
              "<Figure size 1500x300 with 6 Axes>"
            ],
            "image/png": "[encoded data removed]"
          },
          "metadata": {}
        }
      ]
    },
    {
      "cell_type": "code",
      "source": [
        "print(\"Generating samples from RBM with k=5\")\n",
        "generated_samples_k5 = generate_samples(rbm_k5, num_samples=6, num_gibbs_steps=800)\n",
        "visualize_generated_samples(generated_samples_k5)"
      ],
      "metadata": {
        "colab": {
          "base_uri": "https://localhost:8080/",
          "height": 209
        },
        "id": "dZoVaiSPsTUB",
        "outputId": "85bc8ef2-e5c4-441e-f591-68ae5d5492c6"
      },
      "execution_count": null,
      "outputs": [
        {
          "output_type": "stream",
          "name": "stdout",
          "text": [
            "Generating samples from RBM with k=5\n"
          ]
        },
        {
          "output_type": "display_data",
          "data": {
            "text/plain": [
              "<Figure size 1500x300 with 6 Axes>"
            ],
            "image/png": "[encoded data removed]"
          },
          "metadata": {}
        }
      ]
    },
    {
      "cell_type": "code",
      "source": [
        "print(\"Generating samples from RBM with k=10\")\n",
        "generated_samples_k10 = generate_samples(rbm_k10, num_samples=6, num_gibbs_steps=1000)\n",
        "visualize_generated_samples(generated_samples_k10)"
      ],
      "metadata": {
        "colab": {
          "base_uri": "https://localhost:8080/",
          "height": 209
        },
        "id": "RurP1N4SsUyA",
        "outputId": "2b746c3c-253f-43ea-a6eb-bfb3c608b7c9"
      },
      "execution_count": null,
      "outputs": [
        {
          "output_type": "stream",
          "name": "stdout",
          "text": [
            "Generating samples from RBM with k=10\n"
          ]
        },
        {
          "output_type": "display_data",
          "data": {
            "text/plain": [
              "<Figure size 1500x300 with 6 Axes>"
            ],
            "image/png": "[encoded data removed]"
          },
          "metadata": {}
        }
      ]
    },
    {
      "cell_type": "markdown",
      "source": [
        "## Run if you want to load the model"
      ],
      "metadata": {
        "id": "ni3UdwSyYb3p"
      }
    },
    {
      "cell_type": "code",
      "source": [
        "print(\"Generating samples from RBM with k=1\")\n",
        "rbm_k1_loaded = RBM.load_model(\"rbm_k1.pkl\")\n",
        "generated_samples_k1 = generate_samples(rbm_k1_loaded, num_samples=6, num_gibbs_steps=500)\n",
        "visualize_generated_samples(generated_samples_k1)\n",
        "\n",
        "print(\"Generating samples from RBM with k=5\")\n",
        "rbm_k5_loaded = RBM.load_model(\"rbm_k5.pkl\")\n",
        "generated_samples_k5 = generate_samples(rbm_k5_loaded, num_samples=6, num_gibbs_steps=500)\n",
        "visualize_generated_samples(generated_samples_k5)\n",
        "\n",
        "print(\"Generating samples from RBM with k=10\")\n",
        "rbm_k10_loaded = RBM.load_model(\"rbm_k10.pkl\")\n",
        "generated_samples_k10 = generate_samples(rbm_k10_loaded, num_samples=6, num_gibbs_steps=500)\n",
        "visualize_generated_samples(generated_samples_k10)"
      ],
      "metadata": {
        "colab": {
          "base_uri": "https://localhost:8080/",
          "height": 627
        },
        "id": "ZERqcOPR_7e8",
        "outputId": "06737a58-efae-4c2a-fd23-3c017ef1964c"
      },
      "execution_count": null,
      "outputs": [
        {
          "output_type": "stream",
          "name": "stdout",
          "text": [
            "Generating samples from RBM with k=1\n"
          ]
        },
        {
          "output_type": "display_data",
          "data": {
            "text/plain": [
              "<Figure size 1500x300 with 6 Axes>"
            ],
            "image/png": "[encoded data removed]"
          },
          "metadata": {}
        },
        {
          "output_type": "stream",
          "name": "stdout",
          "text": [
            "Generating samples from RBM with k=5\n"
          ]
        },
        {
          "output_type": "display_data",
          "data": {
            "text/plain": [
              "<Figure size 1500x300 with 6 Axes>"
            ],
            "image/png": "[encoded data removed]"
          },
          "metadata": {}
        },
        {
          "output_type": "stream",
          "name": "stdout",
          "text": [
            "Generating samples from RBM with k=10\n"
          ]
        },
        {
          "output_type": "display_data",
          "data": {
            "text/plain": [
              "<Figure size 1500x300 with 6 Axes>"
            ],
            "image/png": "[encoded data removed]"
          },
          "metadata": {}
        }
      ]
    },
    {
      "cell_type": "markdown",
      "source": [
        "# Part III"
      ],
      "metadata": {
        "id": "2SMIXjCVlp7M"
      }
    },
    {
      "cell_type": "code",
      "source": [
        "# Animate the MCMC improvement process\n",
        "def animate_mcmc(rbm, num_samples=1, num_gibbs_steps=800, output_file=\"mcmc_animation.mp4\"):\n",
        "        random_visible = (np.random.rand(num_samples, rbm.n_visible) > 0.5).astype(float)\n",
        "        fig, ax = plt.subplots(figsize=(5, 5))\n",
        "\n",
        "        img = ax.imshow(random_visible[0].reshape(28, 28), cmap=\"gray\", animated=True)\n",
        "        ax.axis(\"off\")\n",
        "\n",
        "        def update(frame):\n",
        "            nonlocal random_visible\n",
        "            _, random_visible = rbm.sample_h_given_v(random_visible)\n",
        "            _, random_visible = rbm.sample_v_given_h(random_visible)\n",
        "            img.set_array((random_visible[0].reshape(28, 28) > 0.5).astype(float))\n",
        "            return [img]\n",
        "\n",
        "        writer = FFMpegWriter(fps=10, metadata=dict(artist=\"RBM Animation\"), bitrate=1800)\n",
        "        with writer.saving(fig, output_file, dpi=100):\n",
        "            for frame in range(num_gibbs_steps):\n",
        "                update(frame)\n",
        "                writer.grab_frame()"
      ],
      "metadata": {
        "id": "eFk5YOZWlsay"
      },
      "execution_count": null,
      "outputs": []
    },
    {
      "cell_type": "code",
      "source": [
        "print(\"Animating the MCMC process for RBM with k=5\")\n",
        "animate_mcmc(rbm_k5, output_file=\"mcmc_animation_k5.mp4\")"
      ],
      "metadata": {
        "colab": {
          "base_uri": "https://localhost:8080/",
          "height": 439
        },
        "id": "xkw83wM3qFz3",
        "outputId": "9db0a38e-20a7-47e8-b845-c5eda61f96e7"
      },
      "execution_count": null,
      "outputs": [
        {
          "output_type": "stream",
          "name": "stdout",
          "text": [
            "Animating the MCMC process for RBM with k=5\n"
          ]
        },
        {
          "output_type": "display_data",
          "data": {
            "text/plain": [
              "<Figure size 500x500 with 1 Axes>"
            ],
            "image/png": "[encoded data removed]"
          },
          "metadata": {}
        }
      ]
    },
    {
      "cell_type": "markdown",
      "source": [
        "# Part 4\n"
      ],
      "metadata": {
        "id": "kh3yzGdEOwZL"
      }
    },
    {
      "cell_type": "code",
      "source": [
        "class ConditionalRBM:\n",
        "\n",
        "    def __init__(self, n_visible=784, n_hidden=256, n_labels=10, numpy_rng=None):\n",
        "\n",
        "        self.n_visible = n_visible\n",
        "        self.n_hidden = n_hidden\n",
        "        self.n_labels = n_labels\n",
        "\n",
        "        if numpy_rng is None:\n",
        "            numpy_rng = np.random.RandomState(1234)\n",
        "        self.numpy_rng = numpy_rng\n",
        "\n",
        "        # Weight matrix, and biases for hidden and visible units\n",
        "        # W shape = (n_visible + n_labels, n_hidden)\n",
        "        self.W = numpy_rng.uniform(\n",
        "            low=-0.1, high=0.1, size=(n_visible + n_labels, n_hidden)\n",
        "        )\n",
        "        self.hbias = np.zeros(n_hidden, dtype=np.float32)\n",
        "        self.vbias = np.zeros(n_visible + n_labels, dtype=np.float32)\n",
        "\n",
        "    @staticmethod\n",
        "    def sigmoid(x):\n",
        "\n",
        "        return 1.0 / (1.0 + np.exp(-x))\n",
        "\n",
        "    def sample_h_given_v(self, v):\n",
        "\n",
        "        h_mean = self.sigmoid(np.dot(v, self.W) + self.hbias)\n",
        "        h_sample = self.numpy_rng.binomial(n=1, p=h_mean, size=h_mean.shape)\n",
        "        return h_mean, h_sample\n",
        "\n",
        "    def sample_v_given_h(self, h, fixed_label=None):\n",
        "        v_mean = self.sigmoid(np.dot(h, self.W.T) + self.vbias)\n",
        "        # If we want to fix the label portion, override the last n_labels entries\n",
        "        if fixed_label is not None:\n",
        "            v_mean[:, -self.n_labels:] = fixed_label\n",
        "        v_sample = self.numpy_rng.binomial(n=1, p=v_mean, size=v_mean.shape)\n",
        "        return v_mean, v_sample\n",
        "\n",
        "    def gibbs_hvh(self, h_sample_start, fixed_label=None):\n",
        "        v_mean, v_sample = self.sample_v_given_h(h_sample_start, fixed_label=fixed_label)\n",
        "        h_mean, h_sample = self.sample_h_given_v(v_sample)\n",
        "        return v_mean, v_sample, h_mean, h_sample\n",
        "\n",
        "    def contrastive_divergence(self, data, labels, k=1, lr=0.1):\n",
        "        # Combine data and labels into a single visible vector\n",
        "        v0 = np.hstack((data, labels))\n",
        "        # Positive phase: sample hidden given v0\n",
        "        ph_mean, ph_sample = self.sample_h_given_v(v0)\n",
        "\n",
        "        # Start the chain from the positive hidden sample\n",
        "        h_sample = ph_sample\n",
        "\n",
        "        # Gibbs sampling (negative phase)\n",
        "        for step in range(k):\n",
        "            v_mean, v_sample, nh_mean, nh_sample = self.gibbs_hvh(\n",
        "                h_sample, fixed_label=labels\n",
        "            )\n",
        "            h_sample = nh_sample  # continue chaining\n",
        "\n",
        "\n",
        "        self.W += lr * (\n",
        "            np.dot(v0.T, ph_sample) - np.dot(v_sample.T, nh_mean)\n",
        "        ) / len(data)\n",
        "\n",
        "        self.vbias += lr * np.mean((v0 - v_sample), axis=0)\n",
        "        self.hbias += lr * np.mean((ph_sample - nh_mean), axis=0)\n",
        "\n",
        "    def reconstruct(self, v):\n",
        "        h = self.sigmoid(np.dot(v, self.W) + self.hbias)\n",
        "        return self.sigmoid(np.dot(h, self.W.T) + self.vbias)\n",
        "\n",
        "    def generate(self, label, num_samples=1, num_gibbs_steps=100):\n",
        "\n",
        "        label_one_hot = np.zeros((num_samples, self.n_labels))\n",
        "        label = np.array(label, ndmin=1)  # ensure it's an array\n",
        "        label_one_hot[np.arange(num_samples), label] = 1\n",
        "\n",
        "        # Start with random visible units, and attach the chosen labels\n",
        "        random_vis = self.numpy_rng.rand(num_samples, self.n_visible)\n",
        "        v = np.hstack((random_vis, label_one_hot))\n",
        "\n",
        "        # Run Gibbs sampling\n",
        "        for _ in range(num_gibbs_steps):\n",
        "            _, h_sample = self.sample_h_given_v(v)\n",
        "            _, v = self.sample_v_given_h(h_sample, fixed_label=label_one_hot)\n",
        "\n",
        "        # Return only the image portion, without the labels\n",
        "        return v[:, :-self.n_labels]\n",
        "\n",
        "    def save_model(self, file_path):\n",
        "        with open(file_path, 'wb') as f:\n",
        "            pickle.dump(self, f)\n",
        "\n",
        "    @staticmethod\n",
        "    def load_model(file_path):\n",
        "        with open(file_path, 'rb') as f:\n",
        "            return pickle.load(f)"
      ],
      "metadata": {
        "id": "EW0W7yQZO0t7"
      },
      "execution_count": null,
      "outputs": []
    },
    {
      "cell_type": "code",
      "source": [
        "n_visible = 28 * 28\n",
        "n_hidden = 256\n",
        "n_labels = 10\n",
        "learning_rate = 0.1\n",
        "epochs = 15\n",
        "\n",
        "crbm = ConditionalRBM(n_visible=n_visible, n_hidden=n_hidden, n_labels=n_labels)\n",
        "\n",
        "# Training CRBM\n",
        "for epoch in range(epochs):\n",
        "      for batch, labels in train_loader:\n",
        "           batch = batch.view(-1, n_visible).numpy()\n",
        "           labels = np.eye(n_labels)[labels.numpy()]\n",
        "           crbm.contrastive_divergence(batch, labels, k=5, lr=learning_rate)\n",
        "\n",
        "      test_data, test_labels = next(iter(test_loader))\n",
        "      test_data = test_data.view(-1, n_visible).numpy()\n",
        "      test_labels = np.eye(n_labels)[test_labels.numpy()]\n",
        "      reconstruction = crbm.reconstruct(np.hstack((test_data, test_labels)))\n",
        "      loss = np.mean((test_data - reconstruction[:, :-n_labels]) ** 2)\n",
        "      print(f\"Epoch {epoch + 1}: Reconstruction Loss = {loss:.4f}\")\n",
        "\n",
        "crbm.save_model(\"crbm.pkl\")"
      ],
      "metadata": {
        "colab": {
          "base_uri": "https://localhost:8080/"
        },
        "id": "DxQRRu_ZO256",
        "outputId": "8df8eef8-cca3-447a-da6c-4d53d698b8b5"
      },
      "execution_count": null,
      "outputs": [
        {
          "output_type": "stream",
          "name": "stdout",
          "text": [
            "Epoch 1: Reconstruction Loss = 0.0242\n",
            "Epoch 2: Reconstruction Loss = 0.0201\n",
            "Epoch 3: Reconstruction Loss = 0.0174\n",
            "Epoch 4: Reconstruction Loss = 0.0159\n",
            "Epoch 5: Reconstruction Loss = 0.0146\n",
            "Epoch 6: Reconstruction Loss = 0.0139\n",
            "Epoch 7: Reconstruction Loss = 0.0134\n",
            "Epoch 8: Reconstruction Loss = 0.0129\n",
            "Epoch 9: Reconstruction Loss = 0.0123\n",
            "Epoch 10: Reconstruction Loss = 0.0122\n",
            "Epoch 11: Reconstruction Loss = 0.0118\n",
            "Epoch 12: Reconstruction Loss = 0.0116\n",
            "Epoch 13: Reconstruction Loss = 0.0115\n",
            "Epoch 14: Reconstruction Loss = 0.0111\n",
            "Epoch 15: Reconstruction Loss = 0.0112\n"
          ]
        }
      ]
    },
    {
      "cell_type": "code",
      "source": [
        "# Generate samples for label '2'\n",
        "num_gen = 6\n",
        "generated_images = crbm.generate(label=[6] * num_gen, num_samples=num_gen, num_gibbs_steps=800)\n",
        "\n",
        "# Visualize generated samples\n",
        "fig, axes = plt.subplots(1, num_gen, figsize=(15, 3))\n",
        "for i, sample in enumerate(generated_images):\n",
        "     axes[i].imshow(sample.reshape(28, 28), cmap=\"gray\")\n",
        "     axes[i].axis(\"off\")\n",
        "plt.show()"
      ],
      "metadata": {
        "colab": {
          "base_uri": "https://localhost:8080/",
          "height": 192
        },
        "id": "e7HhDEnGPn_U",
        "outputId": "8cf77e38-24e5-4b0c-a24e-a5c926d86a2f"
      },
      "execution_count": null,
      "outputs": [
        {
          "output_type": "display_data",
          "data": {
            "text/plain": [
              "<Figure size 1500x300 with 6 Axes>"
            ],
            "image/png": "[encoded data removed]"
          },
          "metadata": {}
        }
      ]
    }
  ]
}